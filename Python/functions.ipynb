{
 "cells": [
  {
   "cell_type": "code",
   "execution_count": null,
   "metadata": {},
   "outputs": [],
   "source": [
    "*   Function syntax, lambda syntax, params types (named, positioned, args, kwargs)\n",
    "*   Variable scope (local, nonlocal and global, enclosing).\n",
    "*   Lambdas use cases.\n",
    "*   map, filter, zip\n",
    "*   Decorator use cases.\n",
    "*   Simple decorator implementation\n",
    "*   Be able to write a simple function decorator (without parameters)\n",
    "*   Decorators in the standard library - Novice\n",
    "        classmethod\n",
    "        staticmethod\n",
    "        property\n",
    "            getter syntax"
   ]
  },
  {
   "cell_type": "code",
   "execution_count": null,
   "metadata": {},
   "outputs": [],
   "source": [
    "*   Functions as a 1st class citizens (as variable, as params,  as return values).\n",
    "*   Higher order functions.\n",
    "*   Function meta information – docstring, type hints, etc.\n",
    "*   Parametrized decorators.\n",
    "*   When python executes decorators\n",
    "*   Decorators in the standard library - Intermediate\n",
    "    *   property\n",
    "        setter and deleter syntax\n",
    "    *   wraps\n",
    "        purpose, limitations\n",
    "    *   cache\n",
    "    *   cached\\_property\n",
    "    *   lru\\_cache\n",
    "    *   contextmanager"
   ]
  },
  {
   "cell_type": "code",
   "execution_count": null,
   "metadata": {},
   "outputs": [],
   "source": [
    "*   Decorator creation oop style (__call__)\n",
    "*   Closures - usecases\n",
    "*   Closures internals (nonlocal, co_freevars, cell_contents)\n",
    "*   Decorators in the standard library - Advanced\n",
    "    *   total_ordering\n",
    "    *   single_dispatch"
   ]
  }
 ],
 "metadata": {
  "language_info": {
   "name": "python"
  },
  "orig_nbformat": 4
 },
 "nbformat": 4,
 "nbformat_minor": 2
}
