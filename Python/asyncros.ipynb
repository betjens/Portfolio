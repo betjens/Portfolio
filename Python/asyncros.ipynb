{
 "cells": [
  {
   "cell_type": "code",
   "execution_count": null,
   "metadata": {},
   "outputs": [],
   "source": [
    "*   What are the asynchronous tasks and typical usage of asynchronous tasks (e.g. send mail, recalculate something)\n",
    "*   Differences between asynchronous and parallel execution\n",
    "*   Event Loop in general (definition, how it works). What is it\n",
    "*   Async/await syntax"
   ]
  },
  {
   "cell_type": "code",
   "execution_count": null,
   "metadata": {},
   "outputs": [],
   "source": [
    "*   Coroutines, Tasks, Futures\n",
    "*   Getting event loop\n",
    "*   Running and stopping event loop\n",
    "*   Scheduling callbacks (call\\_soon)\n",
    "*   Scheduling delayed callbacks (call\\_later)\n",
    "*   Libraries That Work with AsyncIO"
   ]
  },
  {
   "cell_type": "code",
   "execution_count": null,
   "metadata": {},
   "outputs": [],
   "source": [
    "*   Chaining coroutines (gather)\n",
    "*   Choosing between multiprocessing/multithreading/async\n",
    "*   Using a Queue\n",
    "*   Async generators, async for\n",
    "*   Running CPU bound operations or blocking io calls in the event loop (ThreadPoolExecutor)\n",
    "*   Custom event loop implementations – e.g. uvloop"
   ]
  }
 ],
 "metadata": {
  "language_info": {
   "name": "python"
  },
  "orig_nbformat": 4
 },
 "nbformat": 4,
 "nbformat_minor": 2
}
