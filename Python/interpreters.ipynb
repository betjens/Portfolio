{
 "cells": [
  {
   "cell_type": "code",
   "execution_count": null,
   "metadata": {},
   "outputs": [],
   "source": [
    "Code execution\n",
    "    Interactive shell (python, ipython)\n",
    "    Script execution (more details)\n",
    "Code editors overview\n",
    "    Python IDE worked with (e.g. PyCharm, VS code, sublime, vim, etc)\n"
   ]
  },
  {
   "cell_type": "code",
   "execution_count": null,
   "metadata": {},
   "outputs": [],
   "source": [
    "Code execution\n",
    "    Python Virtual Machine\n",
    "    .pyc, .pyo, .pyz files\n",
    "Interpreter definition\n",
    "    Compilation\n",
    "Virtual environments\n",
    "    What is it? What use for?\n",
    "Pip and virtualenv\n",
    "    pipenv, poetry, pipx, conda, etc\n",
    "Different python implementations\n",
    "    IronPython, JPython,CPython, PyPy, etc (reasons of exist of many)\n"
   ]
  },
  {
   "cell_type": "code",
   "execution_count": null,
   "metadata": {},
   "outputs": [],
   "source": [
    "Code execution\n",
    "    Ways to execute Python code: exec, eval, ast, code, codeop, etc.\n",
    "Different python implementations\n",
    "    Implementation details in case of practical experience\n",
    "    Pros and cons\n",
    "Version of Python\n",
    "    Advanced differences\n",
    "    Six, future\n"
   ]
  }
 ],
 "metadata": {
  "language_info": {
   "name": "python"
  },
  "orig_nbformat": 4
 },
 "nbformat": 4,
 "nbformat_minor": 2
}
