{
 "cells": [
  {
   "cell_type": "code",
   "execution_count": null,
   "metadata": {},
   "outputs": [],
   "source": [
    "*   OOP principles definition\n",
    "*   Class syntaxis\n",
    "*   Inheritance syntaxis\n",
    "*   Understand difference between class and instance"
   ]
  },
  {
   "attachments": {},
   "cell_type": "markdown",
   "metadata": {},
   "source": [
    "*   Operators overloading\n",
    "*   Callable objects\n",
    "*   Dunder notation\n",
    "*   Class attributes vs instance attributes\n",
    "*   @property decorator\n",
    "*   DRY"
   ]
  },
  {
   "attachments": {},
   "cell_type": "markdown",
   "metadata": {},
   "source": [
    "*   Abstract base classes\n",
    "*   Attribute access (getattr, setattr)\n",
    "*   Common dunder methods to overload. How they work, reasons to overload\n",
    "    *   __init__, __new__, __del__\n",
    "    *   __repr__, __str__\n",
    "    *   __lt__, __gt__, __le__, __ge__, __eq__, __ne__\n",
    "    *   __hash__\n",
    "    *   __class__\n",
    "    *   __bool__\n",
    "    *   operators __add__, __sub__, __mul__, __pow__, etc\n",
    "*   Slots definitions and usage\n",
    "*   MRO in Python. Diamond Problem\n",
    "*   Mixins\n",
    "*   Composition vs Inheritance\n",
    "*   SOLID"
   ]
  }
 ],
 "metadata": {
  "language_info": {
   "name": "python"
  },
  "orig_nbformat": 4
 },
 "nbformat": 4,
 "nbformat_minor": 2
}
