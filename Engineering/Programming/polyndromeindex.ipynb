{
 "cells": [
  {
   "cell_type": "code",
   "execution_count": 75,
   "metadata": {},
   "outputs": [],
   "source": [
    "def palindromeIndex(s:str):\n",
    "    if s!=s[::-1]:\n",
    "       size=len(s)\n",
    "       for i in range(0, size):\n",
    "           straight = s[:i]+s[i+1:size]\n",
    "           if straight == straight[::-1]:\n",
    "               return i\n",
    "    return -1"
   ]
  },
  {
   "cell_type": "code",
   "execution_count": 76,
   "metadata": {},
   "outputs": [
    {
     "name": "stdout",
     "output_type": "stream",
     "text": [
      "aaab\n",
      "3\n",
      "baa\n",
      "0\n",
      "aaa\n",
      "-1\n"
     ]
    }
   ],
   "source": [
    "s=['aaab','baa','aaa']\n",
    "\n",
    "for i in s:\n",
    "    print(i)\n",
    "    print(palindromeIndex(i))"
   ]
  },
  {
   "cell_type": "code",
   "execution_count": null,
   "metadata": {},
   "outputs": [],
   "source": [
    "def dynamicArray(n, queries):\n",
    "    seqList = [[] for i in range(n)]\n",
    "    lastAnswer = 0\n",
    "    result = []\n",
    "        \n",
    "    for i in range(len(queries)):\n",
    "        query_type = queries[i][0]\n",
    "        x = queries[i][1]\n",
    "        y = queries[i][2]\n",
    "        \n",
    "        idx = (x ^ lastAnswer) % n\n",
    "\n",
    "        if query_type == 1:\n",
    "            seqList[idx].append(y)\n",
    "        else:\n",
    "            lastAnswer = seqList[idx][y % len(seqList[idx])]\n",
    "            result.append(lastAnswer)\n",
    "\n",
    "    return result"
   ]
  },
  {
   "cell_type": "code",
   "execution_count": 5,
   "metadata": {},
   "outputs": [
    {
     "name": "stdout",
     "output_type": "stream",
     "text": [
      "(58, 60)\n",
      "(58, 20)\n",
      "(58, 30)\n",
      "(58, 10)\n",
      "(60, 20)\n",
      "(60, 30)\n",
      "(60, 10)\n",
      "(20, 30)\n",
      "(20, 10)\n",
      "(30, 10)\n"
     ]
    }
   ],
   "source": [
    "# A Python program to print all \n",
    "# permutations using library function \n",
    "from itertools import combinations \n",
    " \n",
    " \n",
    "# Get all permutations of [1, 2, 3] \n",
    "perm = combinations([58, 60, 20, 30 ,10], 2) \n",
    "\n",
    "for value in perm:\n",
    "    print(value)"
   ]
  },
  {
   "cell_type": "code",
   "execution_count": 2,
   "metadata": {},
   "outputs": [],
   "source": [
    "def operation(input_data):\n",
    "    students = \n",
    "    for ustudents in input_data.items():\n",
    "        "
   ]
  },
  {
   "cell_type": "code",
   "execution_count": null,
   "metadata": {},
   "outputs": [],
   "source": [
    "input_data = {\n",
    "    \"58\":\"Software\",\n",
    "    \"60\":\"Economy\",\n",
    "    \"20\":\"Software\",\n",
    "    \"30\":\"Mathematics\",\n",
    "    \"58\":\"Mathematics\",\n",
    "    \"10\":\"Economy\",\n",
    "    \"30\":\"IT\",\n",
    "    \"10\":\"Art\",\n",
    "    \"60\":\"Astronomy\"\n",
    "}\n",
    "\n",
    "operation(input_data)"
   ]
  }
 ],
 "metadata": {
  "kernelspec": {
   "display_name": ".venv",
   "language": "python",
   "name": "python3"
  },
  "language_info": {
   "codemirror_mode": {
    "name": "ipython",
    "version": 3
   },
   "file_extension": ".py",
   "mimetype": "text/x-python",
   "name": "python",
   "nbconvert_exporter": "python",
   "pygments_lexer": "ipython3",
   "version": "3.10.9"
  }
 },
 "nbformat": 4,
 "nbformat_minor": 2
}
