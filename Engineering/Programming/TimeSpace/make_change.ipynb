{
 "cells": [
  {
   "cell_type": "code",
   "execution_count": 1,
   "metadata": {},
   "outputs": [
    {
     "name": "stdout",
     "output_type": "stream",
     "text": [
      "(3, [20, 2, 2])\n",
      "(5, [100, 50, 10, 2, 1])\n"
     ]
    }
   ],
   "source": [
    "def make_change(target_amount):\n",
    "    denominations=[200,100,50,20,10,5,2,1]\n",
    "    coint_count=0\n",
    "    values=[]\n",
    "    for coin in denominations:  \n",
    "        while target_amount>=coin:  # use the current coin until its value is too large   \n",
    "            target_amount-=coin  # decrease the remaining count\n",
    "            values.append(coin)  # make a note of which coin was used\n",
    "            coint_count+=1  # increase the coin count\n",
    "    return coint_count,values\n",
    "\n",
    "\n",
    "print(make_change(24))\n",
    "print(make_change(163))"
   ]
  },
  {
   "cell_type": "code",
   "execution_count": null,
   "metadata": {},
   "outputs": [],
   "source": []
  }
 ],
 "metadata": {
  "kernelspec": {
   "display_name": ".venv",
   "language": "python",
   "name": "python3"
  },
  "language_info": {
   "codemirror_mode": {
    "name": "ipython",
    "version": 3
   },
   "file_extension": ".py",
   "mimetype": "text/x-python",
   "name": "python",
   "nbconvert_exporter": "python",
   "pygments_lexer": "ipython3",
   "version": "3.10.9"
  }
 },
 "nbformat": 4,
 "nbformat_minor": 2
}
