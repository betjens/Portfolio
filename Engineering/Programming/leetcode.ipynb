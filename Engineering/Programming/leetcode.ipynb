{
 "cells": [
  {
   "cell_type": "code",
   "execution_count": 3,
   "metadata": {},
   "outputs": [
    {
     "name": "stdout",
     "output_type": "stream",
     "text": [
      "[5, 4, 3]\n",
      "[5, 4, 2]\n",
      "[5, 4, 1]\n",
      "[5, 3, 2]\n",
      "[5, 3, 1]\n",
      "[5, 2, 1]\n",
      "[4, 3, 2]\n",
      "[4, 3, 1]\n",
      "[4, 2, 1]\n",
      "[3, 2, 1]\n"
     ]
    },
    {
     "data": {
      "text/plain": [
       "False"
      ]
     },
     "execution_count": 3,
     "metadata": {},
     "output_type": "execute_result"
    }
   ],
   "source": [
    "def increasingTriplet(nums: list[int]):\n",
    "        output = False\n",
    "        nums_size = len(nums)\n",
    "        combinations = []\n",
    "\n",
    "        for i in range(0,nums_size):\n",
    "            if nums[i] in combinations:\n",
    "                 continue\n",
    "            combinations.clear()\n",
    "            combinations.append(nums[i])\n",
    "            for j in range(i,nums_size):\n",
    "                if nums[j] in combinations:\n",
    "                 continue \n",
    "                combinations.append(nums[j])\n",
    "                for k in range(j,nums_size):\n",
    "                    if nums[k] in combinations:\n",
    "                        continue \n",
    "                    combinations.append(nums[k])\n",
    "                    print(combinations)\n",
    "                    if combinations[0]<combinations[1]<combinations[2] and i<j<k:\n",
    "                        output = True\n",
    "                        break\n",
    "                    else:\n",
    "                        combinations.pop()\n",
    "                if output == False:\n",
    "                    combinations.pop()\n",
    "                else:\n",
    "                    break\n",
    "            if output == True:\n",
    "                break\n",
    "        \n",
    "        return output\n",
    "\n",
    "\n",
    "#nums = [2,1,5,0,4,6] \n",
    "#nums = [0,4,2,1,0,-1,-3]\n",
    "#nums = [0,4,1,-1,2]\n",
    "#nums = [20,100,10,12,5,13]\n",
    "#nums = [1,2,3,4,5]\n",
    "nums = [5,4,3,2,1]\n",
    "\n",
    "increasingTriplet(nums)\n"
   ]
  },
  {
   "cell_type": "code",
   "execution_count": 1,
   "metadata": {},
   "outputs": [
    {
     "name": "stdout",
     "output_type": "stream",
     "text": [
      "a 1\n",
      "b 2\n"
     ]
    }
   ],
   "source": [
    "content = {'a':1,'b':2}\n",
    "\n",
    "for k,v in content.items():\n",
    "    print(k,v)\n"
   ]
  },
  {
   "cell_type": "code",
   "execution_count": 2,
   "metadata": {},
   "outputs": [
    {
     "name": "stdout",
     "output_type": "stream",
     "text": [
      "true\n"
     ]
    }
   ],
   "source": [
    "value = 340\n",
    "\n",
    "if value >=200 and value <=360:\n",
    "    print(\"true\")\n"
   ]
  },
  {
   "cell_type": "code",
   "execution_count": null,
   "metadata": {},
   "outputs": [],
   "source": []
  }
 ],
 "metadata": {
  "kernelspec": {
   "display_name": "Python 3",
   "language": "python",
   "name": "python3"
  },
  "language_info": {
   "codemirror_mode": {
    "name": "ipython",
    "version": 3
   },
   "file_extension": ".py",
   "mimetype": "text/x-python",
   "name": "python",
   "nbconvert_exporter": "python",
   "pygments_lexer": "ipython3",
   "version": "3.12.5"
  }
 },
 "nbformat": 4,
 "nbformat_minor": 2
}
