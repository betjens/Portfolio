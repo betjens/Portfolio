{
 "cells": [
  {
   "cell_type": "code",
   "execution_count": 14,
   "metadata": {},
   "outputs": [
    {
     "name": "stdout",
     "output_type": "stream",
     "text": [
      "[1, 1, 2, 3, 7]\n"
     ]
    }
   ],
   "source": [
    "head1=[1,3,7]\n",
    "head2=[1,2]\n",
    "\n",
    "\n",
    "order = set(head1).union(set(head2))\n",
    "output = []\n",
    "for value in order:\n",
    "    x=head1.count(value)\n",
    "    y=head2.count(value)\n",
    "    for i in range(0,(x+y)):\n",
    "        output.append(value)\n",
    "\n",
    "print(output)\n"
   ]
  },
  {
   "cell_type": "code",
   "execution_count": 2,
   "metadata": {},
   "outputs": [
    {
     "name": "stdout",
     "output_type": "stream",
     "text": [
      "{[[()())]]}\n",
      "{[[()())]]}\n",
      "{[[()())]]}\n"
     ]
    }
   ],
   "source": [
    "def isBalanced(s:str):\n",
    "    pairs = {'{':'}','[':']','(':')'}\n",
    "    output = []\n",
    "    for key,value in pairs.items():\n",
    "        s.count(key)\n",
    "        s.count(value)\n",
    "        s= s.removeprefix(key)\n",
    "        s = s.removesuffix(value)\n",
    "        print(s)  \n",
    "\n",
    "item = '{{[[()())]]}}'\n",
    "isBalanced(item)\n",
    "            "
   ]
  },
  {
   "cell_type": "markdown",
   "metadata": {},
   "source": []
  },
  {
   "cell_type": "code",
   "execution_count": 1,
   "metadata": {},
   "outputs": [
    {
     "name": "stdout",
     "output_type": "stream",
     "text": [
      "('c', 'h')\n",
      "('c', 'e')\n",
      "('c', 'a')\n",
      "('c', 'p')\n",
      "('c', 'a')\n",
      "('c', 'i')\n",
      "('c', 'r')\n",
      "('h', 'c')\n",
      "('h', 'e')\n",
      "('h', 'a')\n",
      "('h', 'p')\n",
      "('h', 'a')\n",
      "('h', 'i')\n",
      "('h', 'r')\n",
      "('e', 'c')\n",
      "('e', 'h')\n",
      "('e', 'a')\n",
      "('e', 'p')\n",
      "('e', 'a')\n",
      "('e', 'i')\n",
      "('e', 'r')\n",
      "('a', 'c')\n",
      "('a', 'h')\n",
      "('a', 'e')\n",
      "('a', 'p')\n",
      "('a', 'a')\n",
      "('a', 'i')\n",
      "('a', 'r')\n",
      "('p', 'c')\n",
      "('p', 'h')\n",
      "('p', 'e')\n",
      "('p', 'a')\n",
      "('p', 'a')\n",
      "('p', 'i')\n",
      "('p', 'r')\n",
      "('a', 'c')\n",
      "('a', 'h')\n",
      "('a', 'e')\n",
      "('a', 'a')\n",
      "('a', 'p')\n",
      "('a', 'i')\n",
      "('a', 'r')\n",
      "('i', 'c')\n",
      "('i', 'h')\n",
      "('i', 'e')\n",
      "('i', 'a')\n",
      "('i', 'p')\n",
      "('i', 'a')\n",
      "('i', 'r')\n",
      "('r', 'c')\n",
      "('r', 'h')\n",
      "('r', 'e')\n",
      "('r', 'a')\n",
      "('r', 'p')\n",
      "('r', 'a')\n",
      "('r', 'i')\n"
     ]
    }
   ],
   "source": [
    "from itertools import permutations\n",
    "\n",
    "\n",
    "input_values = ['cheapair']\n",
    "\n",
    "for word in input_values:\n",
    "    output = permutations(word,2)\n",
    "    for x in output:\n",
    "        print(x)\n"
   ]
  },
  {
   "cell_type": "code",
   "execution_count": 85,
   "metadata": {},
   "outputs": [
    {
     "name": "stdout",
     "output_type": "stream",
     "text": [
      "['{', '(', '[']\n",
      "['{', '(', '[', ')']\n",
      "['{', '(', '[', ')', ']']\n",
      "['{', '(', '[', ')', ']', ']']\n"
     ]
    },
    {
     "data": {
      "text/plain": [
       "'NO'"
      ]
     },
     "execution_count": 85,
     "metadata": {},
     "output_type": "execute_result"
    }
   ],
   "source": [
    "def isBalanced(s):\n",
    "    hierarchary = {'{':'}','(':')','[':']'}\n",
    "    next_value = list(hierarchary.keys())\n",
    "    for char in s:\n",
    "        if char in next_value:\n",
    "            print(next_value)\n",
    "            if char not in hierarchary.keys():\n",
    "                next_value = next_value[:-1]\n",
    "            else:\n",
    "                next_value.append(hierarchary[char])\n",
    "        else:\n",
    "            return 'NO'\n",
    "    \n",
    "    if next_value == list(hierarchary.keys()):\n",
    "        return 'YES'\n",
    "    return 'NO'\n",
    "\n",
    "isBalanced('([[)')\n"
   ]
  },
  {
   "cell_type": "code",
   "execution_count": 211,
   "metadata": {},
   "outputs": [],
   "source": [
    "# Enter your code here. Read input from STDIN. Print output to STDOUT\n",
    "def evaluation(cmds):\n",
    "    output = ''\n",
    "    state = []\n",
    "    for cmd in cmds:\n",
    "        operation = str.split(cmd,' ')\n",
    "        if operation[0] == '1':\n",
    "            state.append(output)\n",
    "            output += operation[1]\n",
    "            #print('--1 append W--%s',output)\n",
    "        if operation[0] == '2':\n",
    "            state.append(output)\n",
    "            output = output[:-int(operation[1])]\n",
    "            #print('--2 delete k--%s',output)\n",
    "        if operation[0] == '3':\n",
    "            print(output[int(operation[1])-1])\n",
    "            #print('--3 print k--%s',output)\n",
    "        if operation[0] == '4':\n",
    "            output = state.pop()\n",
    "            #print('--4 undo--%s',output)\n"
   ]
  },
  {
   "cell_type": "code",
   "execution_count": 209,
   "metadata": {},
   "outputs": [
    {
     "name": "stdout",
     "output_type": "stream",
     "text": [
      "y\n"
     ]
    }
   ],
   "source": [
    "cmds = [\n",
    "'1 ewcgpjfh',\n",
    "'1 igqsbqyp',\n",
    "'1 qsdliigcj',\n",
    "'4',\n",
    "'3 15',\n",
    "'1 iilmgp',\n",
    "'2 8',\n",
    "'4',\n",
    "'2 18',\n",
    "'1 scwhors',\n",
    "]\n",
    "\n",
    "evaluation(cmds)\n"
   ]
  },
  {
   "cell_type": "code",
   "execution_count": 206,
   "metadata": {},
   "outputs": [
    {
     "name": "stdout",
     "output_type": "stream",
     "text": [
      "c\n",
      "y\n",
      "a\n"
     ]
    }
   ],
   "source": [
    "cmds = [\n",
    "'1 abc',\n",
    "'3 3',\n",
    "'2 3',\n",
    "'1 xy',\n",
    "'3 2',\n",
    "'4',\n",
    "'4',\n",
    "'3 1',\n",
    "]\n",
    "\n",
    "evaluation(cmds)\n"
   ]
  },
  {
   "cell_type": "code",
   "execution_count": 212,
   "metadata": {},
   "outputs": [
    {
     "name": "stdout",
     "output_type": "stream",
     "text": [
      "n\n",
      "p\n",
      "x\n",
      "s\n",
      "p\n",
      "p\n",
      "p\n",
      "i\n",
      "l\n",
      "p\n",
      "d\n",
      "x\n",
      "z\n",
      "b\n",
      "x\n",
      "s\n",
      "n\n"
     ]
    }
   ],
   "source": [
    "    cmds = [\n",
    "    '1 zsfncpxdzl',\n",
    "    '3 4',\n",
    "    '3 6',\n",
    "    '2 1',\n",
    "    '3 7',\n",
    "    '3 2',\n",
    "    '4',\n",
    "    '2 4',\n",
    "    '2 6',\n",
    "    '4',\n",
    "    '4',\n",
    "    '1 l',\n",
    "    '1 hpe',\n",
    "    '3 6',\n",
    "    '2 7',\n",
    "    '4',\n",
    "    '3 6',\n",
    "    '4',\n",
    "    '3 6',\n",
    "    '1 zipsqagri',\n",
    "    '1 vuqxstnj',\n",
    "    '4',\n",
    "    '3 13',\n",
    "    '4',\n",
    "    '3 10',\n",
    "    '3 6',\n",
    "    '1 uzdpy',\n",
    "    '1 bupqp',\n",
    "    '1 kn',\n",
    "    '2 6',\n",
    "    '3 8',\n",
    "    '1 iiuvfbn',\n",
    "    '4',\n",
    "    '2 1',\n",
    "    '2 12',\n",
    "    '4',\n",
    "    '3 7',\n",
    "    '4',\n",
    "    '2 9',\n",
    "    '3 1',\n",
    "    '1 axbhx',\n",
    "    '1 wovbfyvt',\n",
    "    '3 11',\n",
    "    '3 7',\n",
    "    '3 2',\n",
    "    '4',\n",
    "    '1 tjmqp',\n",
    "    '4',\n",
    "    '2 6',\n",
    "    '3 4',\n",
    "    ]\n",
    "\n",
    "    evaluation(cmds)\n"
   ]
  },
  {
   "cell_type": "code",
   "execution_count": 18,
   "metadata": {},
   "outputs": [
    {
     "name": "stdout",
     "output_type": "stream",
     "text": [
      "14\n"
     ]
    }
   ],
   "source": [
    "k=2280\n",
    "A=[\n",
    "9660, 9902, 5775, 2183, 3974, 7742, 576, 8786, 7615, 5575, 6287, 5495, 161, 3520, 344, 805, 786, 3802, 4843, 7424,\n",
    "634, 7916, 6989, 3499, 1216, 1293, 9965, 6299, 7899, 4763, 7272, 9785, 8469, 395, 1034, 8763, 8003, 9464, 5081, 2064,\n",
    "4401, 6850, 8792, 1603, 7547, 3354, 8827, 887, 8151, 2470, 9995, 7228, 8198, 5600, 1829, 8814, 5282, 3930, 2481, 6873,\n",
    "9165, 497, 2158, 1752, 878, 8448, 7862, 7685, 7988, 3536, 8227, 8863, 8663, 1823, 8510, 7065, 6927, 610, 4220, 7096,\n",
    "7685, 6992, 976, 5081, 2389, 1844, 9843, 8741, 9582, 3479, 420, 4136,\n",
    "]\n",
    "\n",
    "#k=7\n",
    "#A=[1,2,3,9,10,12]\n",
    "\n",
    "import heapq\n",
    "\n",
    "def CookieSweetener(k,A):\n",
    "    heapq.heapify(A)\n",
    "    iteration =0\n",
    "    while A[0]<k and len(A)>1:\n",
    "        least_sweet_cookie = heapq.heappop(A)\n",
    "        second_least_sweet_cookie = heapq.heappop(A)\n",
    "        \n",
    "        new_cookie_sweet = (1*least_sweet_cookie+2*second_least_sweet_cookie)\n",
    "\n",
    "        heapq.heappush(A,new_cookie_sweet)\n",
    "\n",
    "        iteration+=1\n",
    "\n",
    "    return -1 if A[0]<k else iteration \n",
    "\n",
    "\n",
    "\n",
    "    \n",
    "\n",
    "print(CookieSweetener(k,A))\n"
   ]
  },
  {
   "cell_type": "code",
   "execution_count": 189,
   "metadata": {},
   "outputs": [
    {
     "name": "stdout",
     "output_type": "stream",
     "text": [
      "****\n",
      "0\n",
      "True\n",
      "True\n",
      "****\n",
      "1\n",
      "False\n",
      "True\n",
      "****\n",
      "2\n",
      "False\n",
      "False\n",
      "****\n",
      "3\n",
      "True\n",
      "False\n",
      "****\n",
      "4\n",
      "False\n",
      "True\n",
      "****\n",
      "5\n",
      "False\n",
      "True\n",
      "****\n",
      "6\n",
      "True\n",
      "False\n"
     ]
    },
    {
     "data": {
      "text/plain": [
       "False"
      ]
     },
     "execution_count": 189,
     "metadata": {},
     "output_type": "execute_result"
    }
   ],
   "source": [
    "def leetcode(flowerbed : list, n : int):\n",
    "        lflower = len(flowerbed)\n",
    "        for i in range(0,lflower):\n",
    "            if i-n >0:\n",
    "                left = flowerbed[i-n+1:i+1]\n",
    "            else:\n",
    "                left =  [0 for i in range(0,n)] if i == 0 else flowerbed[0:i]\n",
    "            \n",
    "            if i+n < lflower:\n",
    "                right = flowerbed[i+1:(i+1)+n]\n",
    "            else:\n",
    "                right = [0 for i in range(0,n)] if i == lflower else flowerbed[i:lflower+1]\n",
    "\n",
    "            print('****')\n",
    "            print(i)\n",
    "            print(left.count(1)==0 and left.count(0) == n)\n",
    "            print(right.count(0) == n and right.count(1)==0)\n",
    "            if (left.count(0) == n and left.count(1)==0) and (right.count(0) == n and right.count(1)==0) and flowerbed[i]!=1:\n",
    "                 return True\n",
    "        return False\n",
    "\n",
    "flower = [1,0,0,0,1,0,0] #[1,0,1,0,1,0,1]\n",
    "n = 2\n",
    "\n",
    "leetcode(flower,n)\n"
   ]
  },
  {
   "cell_type": "code",
   "execution_count": 232,
   "metadata": {},
   "outputs": [
    {
     "name": "stdout",
     "output_type": "stream",
     "text": [
      "['h', 0, 'l', 'l', 0]\n",
      "['h', 'o', 'l', 'l', 'e']\n",
      "holle\n"
     ]
    }
   ],
   "source": [
    "def reverseVowels(s: str) -> str:\n",
    "    vowels = ['a','e','i','o','u']\n",
    "    to_replace = []\n",
    "    output = []\n",
    "    word_size = len(s)\n",
    "    for idx in range(0,word_size):\n",
    "        if s[idx].lower() in vowels:\n",
    "            to_replace.append(s[idx])\n",
    "            output.append(0)\n",
    "        else:\n",
    "            output.append(s[idx])\n",
    "    print(output)\n",
    "    for idx in range(0,word_size):\n",
    "        if output[idx] == 0:\n",
    "            output[idx] = to_replace.pop()\n",
    "    \n",
    "    print(output)\n",
    "    return ''.join(output)\n",
    "\n",
    "s=\"hello\"\n",
    "output = reverseVowels(s)\n",
    "print(output)\n"
   ]
  },
  {
   "cell_type": "code",
   "execution_count": 236,
   "metadata": {},
   "outputs": [
    {
     "name": "stdout",
     "output_type": "stream",
     "text": [
      "['example ', 'good ', 'a']\n"
     ]
    },
    {
     "data": {
      "text/plain": [
       "'example good a'"
      ]
     },
     "execution_count": 236,
     "metadata": {},
     "output_type": "execute_result"
    }
   ],
   "source": [
    "def reverseWords(s:str):\n",
    "    words = s.split(' ')\n",
    "    output = []\n",
    "    i = 1\n",
    "    while True:\n",
    "        if len(words) == i:\n",
    "            output.append(words[-i].strip())\n",
    "            break\n",
    "        \n",
    "        if words[-i]!='':\n",
    "            output.append(words[-i].strip()+' ')\n",
    "        i+=1\n",
    "    \n",
    "    print(output)\n",
    "    return ''.join(output)\n",
    "\n",
    "\n",
    "s='a good   example'\n",
    "reverseWords(s)\n"
   ]
  },
  {
   "cell_type": "code",
   "execution_count": 258,
   "metadata": {},
   "outputs": [
    {
     "name": "stdout",
     "output_type": "stream",
     "text": [
      "[[2, 3, 4], [2, 6, 8], [3, 6, 12], [4, 8, 12]]\n"
     ]
    }
   ],
   "source": [
    "def productExceptSelf(nums):\n",
    "    n = len(nums)\n",
    "        \n",
    "    # Initialize the result array\n",
    "    result = [1] * n\n",
    "    \n",
    "    # Step 1: Calculate the left products\n",
    "    leftProduct = 1\n",
    "    for i in range(n):\n",
    "        result[i] = leftProduct\n",
    "        leftProduct *= nums[i]\n",
    "    \n",
    "    # Step 2: Calculate the right products and update the result array\n",
    "    rightProduct = 1\n",
    "    for i in range(n - 1, -1, -1):\n",
    "        result[i] *= rightProduct\n",
    "        rightProduct *= nums[i]\n",
    "    \n",
    "    return result\n",
    "\n",
    "nums = []\n",
    "productExceptSelf(nums)\n"
   ]
  },
  {
   "cell_type": "code",
   "execution_count": null,
   "metadata": {},
   "outputs": [],
   "source": []
  }
 ],
 "metadata": {
  "kernelspec": {
   "display_name": ".venv",
   "language": "python",
   "name": "python3"
  },
  "language_info": {
   "codemirror_mode": {
    "name": "ipython",
    "version": 3
   },
   "file_extension": ".py",
   "mimetype": "text/x-python",
   "name": "python",
   "nbconvert_exporter": "python",
   "pygments_lexer": "ipython3",
   "version": "3.10.9"
  }
 },
 "nbformat": 4,
 "nbformat_minor": 2
}
