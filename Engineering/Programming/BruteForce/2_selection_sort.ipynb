{
 "cells": [
  {
   "cell_type": "code",
   "execution_count": 1,
   "metadata": {},
   "outputs": [
    {
     "name": "stdout",
     "output_type": "stream",
     "text": [
      "The minium value is 1\n"
     ]
    }
   ],
   "source": [
    "def find_min(xs):\n",
    "    min_idx = 0\n",
    "    for i in range(len(xs)):\n",
    "        if xs[i]<xs[min_idx]:\n",
    "            min_idx=i\n",
    "    return xs[min_idx]\n",
    "\n",
    "xs=[3,2,1,4,5]\n",
    "min_val=find_min(xs)\n",
    "print(f'The minium value is {min_val}')"
   ]
  },
  {
   "cell_type": "code",
   "execution_count": 8,
   "metadata": {},
   "outputs": [
    {
     "name": "stdout",
     "output_type": "stream",
     "text": [
      "[-5, 4, 1, 2, 8, -3, -7]\n",
      "[-7, -5, -3, 1, 2, 4, 8]\n"
     ]
    }
   ],
   "source": [
    "def selection_sort(xs):\n",
    "    min_idx=0\n",
    "    for i in range(len(xs)-1):\n",
    "        min_idx=i\n",
    "        for j in range(i+1,len(xs)):\n",
    "            if xs[j]<xs[min_idx]:\n",
    "                min_idx=j\n",
    "        xs[i],xs[min_idx]=xs[min_idx],xs[i]\n",
    "    return xs\n",
    "\n",
    "#xs = [3,2,1,5,4]\n",
    "xs = [-5,4,1,2,8,-3,-7]\n",
    "print(xs)\n",
    "result=selection_sort(xs)\n",
    "print(result)"
   ]
  },
  {
   "cell_type": "code",
   "execution_count": null,
   "metadata": {},
   "outputs": [],
   "source": []
  }
 ],
 "metadata": {
  "kernelspec": {
   "display_name": ".venv",
   "language": "python",
   "name": "python3"
  },
  "language_info": {
   "codemirror_mode": {
    "name": "ipython",
    "version": 3
   },
   "file_extension": ".py",
   "mimetype": "text/x-python",
   "name": "python",
   "nbconvert_exporter": "python",
   "pygments_lexer": "ipython3",
   "version": "3.10.9"
  }
 },
 "nbformat": 4,
 "nbformat_minor": 2
}
