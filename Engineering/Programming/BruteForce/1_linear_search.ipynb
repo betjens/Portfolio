{
 "cells": [
  {
   "cell_type": "code",
   "execution_count": 19,
   "metadata": {},
   "outputs": [
    {
     "name": "stdout",
     "output_type": "stream",
     "text": [
      "Item found at position 4.\n"
     ]
    }
   ],
   "source": [
    "def linear_search(data,target):\n",
    "    for idx, val in enumerate(data):\n",
    "        if val == target:\n",
    "            return idx\n",
    "    return -1"
   ]
  },
  {
   "cell_type": "code",
   "execution_count": null,
   "metadata": {},
   "outputs": [],
   "source": [
    "data=[4,5,2,7,1,8]\n",
    "target=1\n",
    "result= linear_search(data,target)\n",
    "\n",
    "if result==-1:\n",
    "    print(\"Item not found.\")\n",
    "else:\n",
    "    print(f\"Item found at position {result}.\")"
   ]
  }
 ],
 "metadata": {
  "kernelspec": {
   "display_name": ".venv",
   "language": "python",
   "name": "python3"
  },
  "language_info": {
   "codemirror_mode": {
    "name": "ipython",
    "version": 3
   },
   "file_extension": ".py",
   "mimetype": "text/x-python",
   "name": "python",
   "nbconvert_exporter": "python",
   "pygments_lexer": "ipython3",
   "version": "3.10.9"
  }
 },
 "nbformat": 4,
 "nbformat_minor": 2
}
