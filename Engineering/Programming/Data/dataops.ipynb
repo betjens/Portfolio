{
 "cells": [
  {
   "cell_type": "markdown",
   "metadata": {},
   "source": [
    "Given an array of integers nums and an integer target, return indices of the two numbers such that they add up to target. You may assume that each input would have exactly one solution, and you may not use the same element twice. You can return the answer in any order."
   ]
  },
  {
   "cell_type": "code",
   "execution_count": 80,
   "metadata": {},
   "outputs": [
    {
     "name": "stdout",
     "output_type": "stream",
     "text": [
      "[7, 10, 4, 6, 7, 1, 9, 9, 5, 8, 10, 10, 1, 10, 2, 5, 7, 5, 4, 10, 4, 7, 4, 9, 8, 1, 6, 7, 5, 1, 6, 5, 10, 5, 7, 1, 3, 4, 9, 8, 8, 8, 9, 5, 1, 5, 3, 4, 6, 5, 6, 2, 10, 5, 1, 3, 1, 8, 8, 5, 10, 10, 8, 6, 9, 6, 6, 5, 6, 10, 7, 8, 3, 8, 1, 3, 5, 5, 1, 8, 10, 1, 9, 1, 5, 9, 4, 1, 1, 5, 5, 4, 7, 8, 1, 9, 6, 1, 8, 6]\n",
      "{1: 0, 7: 5, 3: 8, 5: 36}\n",
      "[0, 5, 8, 36]\n"
     ]
    }
   ],
   "source": [
    "# Input: nums = [2,7,11,15], target = 9\n",
    "# Output: [0,1]\n",
    "# Explanation: Because nums[0] + nums[1] == 9, we return [0, 1].\n",
    "import random\n",
    "\n",
    "target = 8\n",
    "nums = [random.randint(1,10) for _ in range(100)]\n",
    "output = {}\n",
    "\n",
    "for i,num in enumerate(nums):\n",
    "    complement = target-num\n",
    "    if complement not in output.keys() and complement in nums and complement%2!=0:\n",
    "        output[complement] = i\n",
    "\n",
    "print(nums)\n",
    "print(output)\n",
    "print(list(output.values()))\n",
    "\n"
   ]
  },
  {
   "cell_type": "markdown",
   "metadata": {},
   "source": [
    "Reverse a singly linked list.\n",
    "\n",
    "A singly linked list is a data structure that consists of a sequence of nodes. Each node contains a value and a reference (or pointer) to the next node in the sequence. The last node in the list points to None.\n",
    "\n",
    "For example, given the linked list 1 -> 2 -> 3 -> 4 -> 5, the reversed linked list should be 5 -> 4 -> 3 -> 2 -> 1."
   ]
  },
  {
   "cell_type": "code",
   "execution_count": 100,
   "metadata": {},
   "outputs": [
    {
     "name": "stdout",
     "output_type": "stream",
     "text": [
      "[5, 1, 7, 2, 9, 3, 8, 5, 9, 1]\n",
      "[1, 9, 5, 8, 3, 9, 2, 7, 1, 5]\n",
      "[1, 1, 2, 3, 5, 5, 7, 8, 9, 9]\n"
     ]
    }
   ],
   "source": [
    "import random\n",
    "\n",
    "list_items = [random.randint(1,10) for _ in range(10)]\n",
    "\n",
    "print(list_items)\n",
    "print(list_items[::-1])\n",
    "print(sorted(list_items[::-1]))"
   ]
  },
  {
   "cell_type": "markdown",
   "metadata": {},
   "source": [
    "Given a collection of intervals, merge all overlapping intervals.\n",
    "\n",
    "An interval is represented as a pair of integers [start, end], where start is the start of the interval and end is the end of the interval."
   ]
  },
  {
   "cell_type": "code",
   "execution_count": null,
   "metadata": {},
   "outputs": [],
   "source": [
    "# Input: intervals = [[1,3],[2,6],[8,10],[15,18]]\n",
    "# Output: [[1,6],[8,10],[15,18]]\n",
    "# Explanation: \n",
    "# - The intervals [1,3] and [2,6] overlap, so they should be merged into [1,6].\n",
    "# - The intervals [8,10] and [15,18] do not overlap, so they remain separate.\n",
    "\n",
    "input_vals = [[1,3],[2,6],[8,10],[15,18]]\n",
    "\n",
    "for value in input_vals:\n",
    "    \n",
    "\n",
    "\n"
   ]
  },
  {
   "cell_type": "code",
   "execution_count": 108,
   "metadata": {},
   "outputs": [
    {
     "name": "stdout",
     "output_type": "stream",
     "text": [
      "[1, 2, 'Fizz', 4, 'Buzz', 'Fizz', 7, 8, 'Fizz', 'Buzz', 11, 'Fizz', 13, 14, 'FizzBuzz']\n"
     ]
    }
   ],
   "source": [
    "def fizzBuzz(n):\n",
    "    output=[]\n",
    "    for i in range(1,n+1):\n",
    "        item=''\n",
    "        if i%3==0:\n",
    "            item = 'Fizz'\n",
    "        if i%5==0:\n",
    "            item = 'Buzz'\n",
    "        if i%3==0 and i%5==0:\n",
    "            item = 'FizzBuzz'\n",
    "        \n",
    "        if item!='':\n",
    "            output.append(item)\n",
    "        else:\n",
    "            output.append(i)\n",
    "    return output\n",
    "\n",
    "\n",
    "print(fizzBuzz(15))"
   ]
  },
  {
   "cell_type": "code",
   "execution_count": null,
   "metadata": {},
   "outputs": [],
   "source": []
  }
 ],
 "metadata": {
  "kernelspec": {
   "display_name": ".venv",
   "language": "python",
   "name": "python3"
  },
  "language_info": {
   "codemirror_mode": {
    "name": "ipython",
    "version": 3
   },
   "file_extension": ".py",
   "mimetype": "text/x-python",
   "name": "python",
   "nbconvert_exporter": "python",
   "pygments_lexer": "ipython3",
   "version": "3.10.9"
  }
 },
 "nbformat": 4,
 "nbformat_minor": 2
}
